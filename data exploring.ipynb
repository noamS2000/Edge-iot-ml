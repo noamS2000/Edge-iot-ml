{
 "cells": [
  {
   "cell_type": "code",
   "execution_count": 81,
   "id": "c8c4a3ba",
   "metadata": {},
   "outputs": [],
   "source": [
    "import pandas as pd\n",
    "import numpy as np\n",
    "import os\n",
    "\n",
    "import warnings\n",
    "warnings.filterwarnings(action=\"ignore\")"
   ]
  },
  {
   "cell_type": "code",
   "execution_count": 8,
   "id": "261d101c",
   "metadata": {},
   "outputs": [
    {
     "data": {
      "text/plain": [
       "['ML-EdgeIIoT-dataset.csv', 'DNN-EdgeIIoT-dataset.csv']"
      ]
     },
     "execution_count": 8,
     "metadata": {},
     "output_type": "execute_result"
    }
   ],
   "source": [
    "os.listdir('iot_data/datasets/dataset_ML_DL')"
   ]
  },
  {
   "cell_type": "code",
   "execution_count": 257,
   "id": "efa43598",
   "metadata": {},
   "outputs": [],
   "source": [
    "df = pd.read_csv('iot_data/datasets/dataset_ML_DL/ML-EdgeIIoT-dataset.csv')\n",
    "# df = pd.read_csv('iot_data/datasets/normal_traffic/Distance/Distance.csv')"
   ]
  },
  {
   "cell_type": "code",
   "execution_count": 23,
   "id": "a3aea659",
   "metadata": {},
   "outputs": [],
   "source": []
  },
  {
   "cell_type": "code",
   "execution_count": 34,
   "id": "8bb6441e",
   "metadata": {},
   "outputs": [
    {
     "data": {
      "text/plain": [
       "0.8460012674271229"
      ]
     },
     "execution_count": 34,
     "metadata": {},
     "output_type": "execute_result"
    }
   ],
   "source": [
    "len(df[df.Attack_label == 1])/len(df)"
   ]
  },
  {
   "cell_type": "code",
   "execution_count": 35,
   "id": "4d18d1b0",
   "metadata": {},
   "outputs": [
    {
     "data": {
      "text/plain": [
       "0.15399873257287705"
      ]
     },
     "execution_count": 35,
     "metadata": {},
     "output_type": "execute_result"
    }
   ],
   "source": [
    "len(df[df.Attack_label == 0])/len(df)"
   ]
  },
  {
   "cell_type": "code",
   "execution_count": 33,
   "id": "fe8ec519",
   "metadata": {},
   "outputs": [
    {
     "data": {
      "text/html": [
       "<div>\n",
       "<style scoped>\n",
       "    .dataframe tbody tr th:only-of-type {\n",
       "        vertical-align: middle;\n",
       "    }\n",
       "\n",
       "    .dataframe tbody tr th {\n",
       "        vertical-align: top;\n",
       "    }\n",
       "\n",
       "    .dataframe thead th {\n",
       "        text-align: right;\n",
       "    }\n",
       "</style>\n",
       "<table border=\"1\" class=\"dataframe\">\n",
       "  <thead>\n",
       "    <tr style=\"text-align: right;\">\n",
       "      <th></th>\n",
       "      <th>arp.opcode</th>\n",
       "      <th>arp.hw.size</th>\n",
       "      <th>icmp.checksum</th>\n",
       "      <th>icmp.seq_le</th>\n",
       "      <th>icmp.transmit_timestamp</th>\n",
       "      <th>icmp.unused</th>\n",
       "      <th>http.content_length</th>\n",
       "      <th>http.response</th>\n",
       "      <th>http.tls_port</th>\n",
       "      <th>tcp.ack</th>\n",
       "      <th>...</th>\n",
       "      <th>mqtt.len</th>\n",
       "      <th>mqtt.msg_decoded_as</th>\n",
       "      <th>mqtt.msgtype</th>\n",
       "      <th>mqtt.proto_len</th>\n",
       "      <th>mqtt.topic_len</th>\n",
       "      <th>mqtt.ver</th>\n",
       "      <th>mbtcp.len</th>\n",
       "      <th>mbtcp.trans_id</th>\n",
       "      <th>mbtcp.unit_id</th>\n",
       "      <th>Attack_label</th>\n",
       "    </tr>\n",
       "  </thead>\n",
       "  <tbody>\n",
       "    <tr>\n",
       "      <th>count</th>\n",
       "      <td>157800.000000</td>\n",
       "      <td>157800.000000</td>\n",
       "      <td>157800.000000</td>\n",
       "      <td>157800.000000</td>\n",
       "      <td>1.578000e+05</td>\n",
       "      <td>157800.0</td>\n",
       "      <td>157800.000000</td>\n",
       "      <td>157800.000000</td>\n",
       "      <td>157800.0</td>\n",
       "      <td>1.578000e+05</td>\n",
       "      <td>...</td>\n",
       "      <td>157800.000000</td>\n",
       "      <td>157800.0</td>\n",
       "      <td>157800.000000</td>\n",
       "      <td>157800.000000</td>\n",
       "      <td>157800.000000</td>\n",
       "      <td>157800.000000</td>\n",
       "      <td>157800.0</td>\n",
       "      <td>157800.0</td>\n",
       "      <td>157800.0</td>\n",
       "      <td>157800.000000</td>\n",
       "    </tr>\n",
       "    <tr>\n",
       "      <th>mean</th>\n",
       "      <td>0.014195</td>\n",
       "      <td>0.059848</td>\n",
       "      <td>3047.291838</td>\n",
       "      <td>3239.979778</td>\n",
       "      <td>4.046816e+04</td>\n",
       "      <td>0.0</td>\n",
       "      <td>14.715520</td>\n",
       "      <td>0.045748</td>\n",
       "      <td>0.0</td>\n",
       "      <td>7.160039e+07</td>\n",
       "      <td>...</td>\n",
       "      <td>0.419341</td>\n",
       "      <td>0.0</td>\n",
       "      <td>0.161331</td>\n",
       "      <td>0.031686</td>\n",
       "      <td>0.189506</td>\n",
       "      <td>0.031686</td>\n",
       "      <td>0.0</td>\n",
       "      <td>0.0</td>\n",
       "      <td>0.0</td>\n",
       "      <td>0.846001</td>\n",
       "    </tr>\n",
       "    <tr>\n",
       "      <th>std</th>\n",
       "      <td>0.149783</td>\n",
       "      <td>0.596245</td>\n",
       "      <td>11144.328203</td>\n",
       "      <td>11406.072994</td>\n",
       "      <td>1.764075e+06</td>\n",
       "      <td>0.0</td>\n",
       "      <td>229.659671</td>\n",
       "      <td>0.208938</td>\n",
       "      <td>0.0</td>\n",
       "      <td>3.101231e+08</td>\n",
       "      <td>...</td>\n",
       "      <td>3.606594</td>\n",
       "      <td>0.0</td>\n",
       "      <td>1.293453</td>\n",
       "      <td>0.354598</td>\n",
       "      <td>2.124206</td>\n",
       "      <td>0.354598</td>\n",
       "      <td>0.0</td>\n",
       "      <td>0.0</td>\n",
       "      <td>0.0</td>\n",
       "      <td>0.360949</td>\n",
       "    </tr>\n",
       "    <tr>\n",
       "      <th>min</th>\n",
       "      <td>0.000000</td>\n",
       "      <td>0.000000</td>\n",
       "      <td>0.000000</td>\n",
       "      <td>0.000000</td>\n",
       "      <td>0.000000e+00</td>\n",
       "      <td>0.0</td>\n",
       "      <td>0.000000</td>\n",
       "      <td>0.000000</td>\n",
       "      <td>0.0</td>\n",
       "      <td>0.000000e+00</td>\n",
       "      <td>...</td>\n",
       "      <td>0.000000</td>\n",
       "      <td>0.0</td>\n",
       "      <td>0.000000</td>\n",
       "      <td>0.000000</td>\n",
       "      <td>0.000000</td>\n",
       "      <td>0.000000</td>\n",
       "      <td>0.0</td>\n",
       "      <td>0.0</td>\n",
       "      <td>0.0</td>\n",
       "      <td>0.000000</td>\n",
       "    </tr>\n",
       "    <tr>\n",
       "      <th>25%</th>\n",
       "      <td>0.000000</td>\n",
       "      <td>0.000000</td>\n",
       "      <td>0.000000</td>\n",
       "      <td>0.000000</td>\n",
       "      <td>0.000000e+00</td>\n",
       "      <td>0.0</td>\n",
       "      <td>0.000000</td>\n",
       "      <td>0.000000</td>\n",
       "      <td>0.0</td>\n",
       "      <td>0.000000e+00</td>\n",
       "      <td>...</td>\n",
       "      <td>0.000000</td>\n",
       "      <td>0.0</td>\n",
       "      <td>0.000000</td>\n",
       "      <td>0.000000</td>\n",
       "      <td>0.000000</td>\n",
       "      <td>0.000000</td>\n",
       "      <td>0.0</td>\n",
       "      <td>0.0</td>\n",
       "      <td>0.0</td>\n",
       "      <td>1.000000</td>\n",
       "    </tr>\n",
       "    <tr>\n",
       "      <th>50%</th>\n",
       "      <td>0.000000</td>\n",
       "      <td>0.000000</td>\n",
       "      <td>0.000000</td>\n",
       "      <td>0.000000</td>\n",
       "      <td>0.000000e+00</td>\n",
       "      <td>0.0</td>\n",
       "      <td>0.000000</td>\n",
       "      <td>0.000000</td>\n",
       "      <td>0.0</td>\n",
       "      <td>1.000000e+00</td>\n",
       "      <td>...</td>\n",
       "      <td>0.000000</td>\n",
       "      <td>0.0</td>\n",
       "      <td>0.000000</td>\n",
       "      <td>0.000000</td>\n",
       "      <td>0.000000</td>\n",
       "      <td>0.000000</td>\n",
       "      <td>0.0</td>\n",
       "      <td>0.0</td>\n",
       "      <td>0.0</td>\n",
       "      <td>1.000000</td>\n",
       "    </tr>\n",
       "    <tr>\n",
       "      <th>75%</th>\n",
       "      <td>0.000000</td>\n",
       "      <td>0.000000</td>\n",
       "      <td>0.000000</td>\n",
       "      <td>0.000000</td>\n",
       "      <td>0.000000e+00</td>\n",
       "      <td>0.0</td>\n",
       "      <td>0.000000</td>\n",
       "      <td>0.000000</td>\n",
       "      <td>0.0</td>\n",
       "      <td>4.790000e+02</td>\n",
       "      <td>...</td>\n",
       "      <td>0.000000</td>\n",
       "      <td>0.0</td>\n",
       "      <td>0.000000</td>\n",
       "      <td>0.000000</td>\n",
       "      <td>0.000000</td>\n",
       "      <td>0.000000</td>\n",
       "      <td>0.0</td>\n",
       "      <td>0.0</td>\n",
       "      <td>0.0</td>\n",
       "      <td>1.000000</td>\n",
       "    </tr>\n",
       "    <tr>\n",
       "      <th>max</th>\n",
       "      <td>2.000000</td>\n",
       "      <td>6.000000</td>\n",
       "      <td>65532.000000</td>\n",
       "      <td>65524.000000</td>\n",
       "      <td>7.728902e+07</td>\n",
       "      <td>0.0</td>\n",
       "      <td>83655.000000</td>\n",
       "      <td>1.000000</td>\n",
       "      <td>0.0</td>\n",
       "      <td>2.147333e+09</td>\n",
       "      <td>...</td>\n",
       "      <td>39.000000</td>\n",
       "      <td>0.0</td>\n",
       "      <td>14.000000</td>\n",
       "      <td>4.000000</td>\n",
       "      <td>24.000000</td>\n",
       "      <td>4.000000</td>\n",
       "      <td>0.0</td>\n",
       "      <td>0.0</td>\n",
       "      <td>0.0</td>\n",
       "      <td>1.000000</td>\n",
       "    </tr>\n",
       "  </tbody>\n",
       "</table>\n",
       "<p>8 rows × 43 columns</p>\n",
       "</div>"
      ],
      "text/plain": [
       "          arp.opcode    arp.hw.size  icmp.checksum    icmp.seq_le  \\\n",
       "count  157800.000000  157800.000000  157800.000000  157800.000000   \n",
       "mean        0.014195       0.059848    3047.291838    3239.979778   \n",
       "std         0.149783       0.596245   11144.328203   11406.072994   \n",
       "min         0.000000       0.000000       0.000000       0.000000   \n",
       "25%         0.000000       0.000000       0.000000       0.000000   \n",
       "50%         0.000000       0.000000       0.000000       0.000000   \n",
       "75%         0.000000       0.000000       0.000000       0.000000   \n",
       "max         2.000000       6.000000   65532.000000   65524.000000   \n",
       "\n",
       "       icmp.transmit_timestamp  icmp.unused  http.content_length  \\\n",
       "count             1.578000e+05     157800.0        157800.000000   \n",
       "mean              4.046816e+04          0.0            14.715520   \n",
       "std               1.764075e+06          0.0           229.659671   \n",
       "min               0.000000e+00          0.0             0.000000   \n",
       "25%               0.000000e+00          0.0             0.000000   \n",
       "50%               0.000000e+00          0.0             0.000000   \n",
       "75%               0.000000e+00          0.0             0.000000   \n",
       "max               7.728902e+07          0.0         83655.000000   \n",
       "\n",
       "       http.response  http.tls_port       tcp.ack  ...       mqtt.len  \\\n",
       "count  157800.000000       157800.0  1.578000e+05  ...  157800.000000   \n",
       "mean        0.045748            0.0  7.160039e+07  ...       0.419341   \n",
       "std         0.208938            0.0  3.101231e+08  ...       3.606594   \n",
       "min         0.000000            0.0  0.000000e+00  ...       0.000000   \n",
       "25%         0.000000            0.0  0.000000e+00  ...       0.000000   \n",
       "50%         0.000000            0.0  1.000000e+00  ...       0.000000   \n",
       "75%         0.000000            0.0  4.790000e+02  ...       0.000000   \n",
       "max         1.000000            0.0  2.147333e+09  ...      39.000000   \n",
       "\n",
       "       mqtt.msg_decoded_as   mqtt.msgtype  mqtt.proto_len  mqtt.topic_len  \\\n",
       "count             157800.0  157800.000000   157800.000000   157800.000000   \n",
       "mean                   0.0       0.161331        0.031686        0.189506   \n",
       "std                    0.0       1.293453        0.354598        2.124206   \n",
       "min                    0.0       0.000000        0.000000        0.000000   \n",
       "25%                    0.0       0.000000        0.000000        0.000000   \n",
       "50%                    0.0       0.000000        0.000000        0.000000   \n",
       "75%                    0.0       0.000000        0.000000        0.000000   \n",
       "max                    0.0      14.000000        4.000000       24.000000   \n",
       "\n",
       "            mqtt.ver  mbtcp.len  mbtcp.trans_id  mbtcp.unit_id   Attack_label  \n",
       "count  157800.000000   157800.0        157800.0       157800.0  157800.000000  \n",
       "mean        0.031686        0.0             0.0            0.0       0.846001  \n",
       "std         0.354598        0.0             0.0            0.0       0.360949  \n",
       "min         0.000000        0.0             0.0            0.0       0.000000  \n",
       "25%         0.000000        0.0             0.0            0.0       1.000000  \n",
       "50%         0.000000        0.0             0.0            0.0       1.000000  \n",
       "75%         0.000000        0.0             0.0            0.0       1.000000  \n",
       "max         4.000000        0.0             0.0            0.0       1.000000  \n",
       "\n",
       "[8 rows x 43 columns]"
      ]
     },
     "execution_count": 33,
     "metadata": {},
     "output_type": "execute_result"
    }
   ],
   "source": [
    "df.describe()"
   ]
  },
  {
   "cell_type": "code",
   "execution_count": 32,
   "id": "e0f2fbc9",
   "metadata": {},
   "outputs": [
    {
     "name": "stdout",
     "output_type": "stream",
     "text": [
      "<class 'pandas.core.frame.DataFrame'>\n",
      "RangeIndex: 157800 entries, 0 to 157799\n",
      "Data columns (total 63 columns):\n",
      " #   Column                     Non-Null Count   Dtype  \n",
      "---  ------                     --------------   -----  \n",
      " 0   frame.time                 157800 non-null  object \n",
      " 1   ip.src_host                157800 non-null  object \n",
      " 2   ip.dst_host                157800 non-null  object \n",
      " 3   arp.dst.proto_ipv4         157800 non-null  object \n",
      " 4   arp.opcode                 157800 non-null  float64\n",
      " 5   arp.hw.size                157800 non-null  float64\n",
      " 6   arp.src.proto_ipv4         157800 non-null  object \n",
      " 7   icmp.checksum              157800 non-null  float64\n",
      " 8   icmp.seq_le                157800 non-null  float64\n",
      " 9   icmp.transmit_timestamp    157800 non-null  float64\n",
      " 10  icmp.unused                157800 non-null  float64\n",
      " 11  http.file_data             157800 non-null  object \n",
      " 12  http.content_length        157800 non-null  float64\n",
      " 13  http.request.uri.query     157800 non-null  object \n",
      " 14  http.request.method        157800 non-null  object \n",
      " 15  http.referer               157800 non-null  object \n",
      " 16  http.request.full_uri      157800 non-null  object \n",
      " 17  http.request.version       157800 non-null  object \n",
      " 18  http.response              157800 non-null  float64\n",
      " 19  http.tls_port              157800 non-null  float64\n",
      " 20  tcp.ack                    157800 non-null  float64\n",
      " 21  tcp.ack_raw                157800 non-null  float64\n",
      " 22  tcp.checksum               157800 non-null  float64\n",
      " 23  tcp.connection.fin         157800 non-null  float64\n",
      " 24  tcp.connection.rst         157800 non-null  float64\n",
      " 25  tcp.connection.syn         157800 non-null  float64\n",
      " 26  tcp.connection.synack      157800 non-null  float64\n",
      " 27  tcp.dstport                157800 non-null  float64\n",
      " 28  tcp.flags                  157800 non-null  float64\n",
      " 29  tcp.flags.ack              157800 non-null  float64\n",
      " 30  tcp.len                    157800 non-null  float64\n",
      " 31  tcp.options                157800 non-null  object \n",
      " 32  tcp.payload                157800 non-null  object \n",
      " 33  tcp.seq                    157800 non-null  float64\n",
      " 34  tcp.srcport                157800 non-null  object \n",
      " 35  udp.port                   157800 non-null  float64\n",
      " 36  udp.stream                 157800 non-null  float64\n",
      " 37  udp.time_delta             157800 non-null  float64\n",
      " 38  dns.qry.name               157800 non-null  float64\n",
      " 39  dns.qry.name.len           157800 non-null  object \n",
      " 40  dns.qry.qu                 157800 non-null  float64\n",
      " 41  dns.qry.type               157800 non-null  float64\n",
      " 42  dns.retransmission         157800 non-null  float64\n",
      " 43  dns.retransmit_request     157800 non-null  float64\n",
      " 44  dns.retransmit_request_in  157800 non-null  float64\n",
      " 45  mqtt.conack.flags          157800 non-null  object \n",
      " 46  mqtt.conflag.cleansess     157800 non-null  float64\n",
      " 47  mqtt.conflags              157800 non-null  float64\n",
      " 48  mqtt.hdrflags              157800 non-null  float64\n",
      " 49  mqtt.len                   157800 non-null  float64\n",
      " 50  mqtt.msg_decoded_as        157800 non-null  float64\n",
      " 51  mqtt.msg                   157800 non-null  object \n",
      " 52  mqtt.msgtype               157800 non-null  float64\n",
      " 53  mqtt.proto_len             157800 non-null  float64\n",
      " 54  mqtt.protoname             157800 non-null  object \n",
      " 55  mqtt.topic                 157800 non-null  object \n",
      " 56  mqtt.topic_len             157800 non-null  float64\n",
      " 57  mqtt.ver                   157800 non-null  float64\n",
      " 58  mbtcp.len                  157800 non-null  float64\n",
      " 59  mbtcp.trans_id             157800 non-null  float64\n",
      " 60  mbtcp.unit_id              157800 non-null  float64\n",
      " 61  Attack_label               157800 non-null  int64  \n",
      " 62  Attack_type                157800 non-null  object \n",
      "dtypes: float64(42), int64(1), object(20)\n",
      "memory usage: 75.8+ MB\n"
     ]
    }
   ],
   "source": [
    "df.info()"
   ]
  },
  {
   "cell_type": "markdown",
   "id": "36fc41c7",
   "metadata": {},
   "source": [
    "Exploring the dataset - \n",
    "\n",
    "In the datasets directory there are 3 sub-directories:\n",
    "1. normal_traffic - contains non-attacked traffic of the different devices in the network\n",
    "2. attack_traffic - contains traffic with the attacks performed by the attacking machines \n",
    "3. dataset_ML_DL - contains sample dataset for ML and a 10 times larger one for DNN\n",
    "\n",
    "The data is described in the research paper in the same directory as this notebook"
   ]
  },
  {
   "cell_type": "markdown",
   "id": "062c1fa3",
   "metadata": {},
   "source": [
    "ML-EdgeIIoT-dataset.csv\n",
    "\n",
    "Working with the dataset designated for ML researching - ML-EdgeIIoT-dataset.csv.\n",
    "This csv contains a dataset where almost 85% of it is attacks and 15% are is normal traffic.\n",
    "The attacks are also divided in groups so we have two tasks binary classification and multilabel classification (for binary clf the dataset is not exactly balanced).\n",
    "\n",
    "1. There are no empty rows or values\n",
    "2. In the dataset the information about 9 protocols is saved (arp, ip, tcp, udp, icmp, http, mqtt, mbtcp, dns)\n",
    "3. There are some problems in the data - for example some columns don't contain the same data type for all it's values\n",
    "4. Some data is string so it needs to be converted to another type of data (ip.src_host, ip.dst_host, arp.src.proto_ipv4, http.file_data etc..)"
   ]
  },
  {
   "cell_type": "code",
   "execution_count": 57,
   "id": "4793190e",
   "metadata": {},
   "outputs": [
    {
     "data": {
      "text/plain": [
       "494"
      ]
     },
     "execution_count": 57,
     "metadata": {},
     "output_type": "execute_result"
    }
   ],
   "source": [
    "len(df[df[\"http.file_data\"] != 0][df[\"http.file_data\"] != \"0.0\"][df[\"http.file_data\"] != \"0\"]['http.file_data'].unique())\n"
   ]
  },
  {
   "cell_type": "code",
   "execution_count": null,
   "id": "1d6b76fa",
   "metadata": {},
   "outputs": [],
   "source": []
  },
  {
   "cell_type": "markdown",
   "id": "b5e1dcba",
   "metadata": {},
   "source": [
    "### Easy string converting"
   ]
  },
  {
   "cell_type": "code",
   "execution_count": 70,
   "id": "e41aadb7",
   "metadata": {},
   "outputs": [],
   "source": [
    "def convert_to_float(df):\n",
    "    \"\"\"Converts \"0\", \"0.0\", or 0 to float(0.0) in a DataFrame\"\"\"\n",
    "    cond = (df == \"0\") | (df == 0) | (df == \"0.0\")\n",
    "    return df.where(~cond, float(0.0))\n",
    "\n",
    "df = convert_to_float(df.copy())"
   ]
  },
  {
   "cell_type": "code",
   "execution_count": 72,
   "id": "bfcc8a33",
   "metadata": {},
   "outputs": [
    {
     "name": "stdout",
     "output_type": "stream",
     "text": [
      "<class 'pandas.core.frame.DataFrame'>\n",
      "RangeIndex: 157800 entries, 0 to 157799\n",
      "Data columns (total 63 columns):\n",
      " #   Column                     Non-Null Count   Dtype  \n",
      "---  ------                     --------------   -----  \n",
      " 0   frame.time                 157800 non-null  object \n",
      " 1   ip.src_host                157800 non-null  object \n",
      " 2   ip.dst_host                157800 non-null  object \n",
      " 3   arp.dst.proto_ipv4         157800 non-null  object \n",
      " 4   arp.opcode                 157800 non-null  float64\n",
      " 5   arp.hw.size                157800 non-null  float64\n",
      " 6   arp.src.proto_ipv4         157800 non-null  object \n",
      " 7   icmp.checksum              157800 non-null  float64\n",
      " 8   icmp.seq_le                157800 non-null  float64\n",
      " 9   icmp.transmit_timestamp    157800 non-null  float64\n",
      " 10  icmp.unused                157800 non-null  float64\n",
      " 11  http.file_data             157800 non-null  object \n",
      " 12  http.content_length        157800 non-null  float64\n",
      " 13  http.request.uri.query     157800 non-null  object \n",
      " 14  http.request.method        157800 non-null  object \n",
      " 15  http.referer               157800 non-null  object \n",
      " 16  http.request.full_uri      157800 non-null  object \n",
      " 17  http.request.version       157800 non-null  object \n",
      " 18  http.response              157800 non-null  float64\n",
      " 19  http.tls_port              157800 non-null  float64\n",
      " 20  tcp.ack                    157800 non-null  float64\n",
      " 21  tcp.ack_raw                157800 non-null  float64\n",
      " 22  tcp.checksum               157800 non-null  float64\n",
      " 23  tcp.connection.fin         157800 non-null  float64\n",
      " 24  tcp.connection.rst         157800 non-null  float64\n",
      " 25  tcp.connection.syn         157800 non-null  float64\n",
      " 26  tcp.connection.synack      157800 non-null  float64\n",
      " 27  tcp.dstport                157800 non-null  float64\n",
      " 28  tcp.flags                  157800 non-null  float64\n",
      " 29  tcp.flags.ack              157800 non-null  float64\n",
      " 30  tcp.len                    157800 non-null  float64\n",
      " 31  tcp.options                157800 non-null  object \n",
      " 32  tcp.payload                157800 non-null  object \n",
      " 33  tcp.seq                    157800 non-null  float64\n",
      " 34  tcp.srcport                157800 non-null  object \n",
      " 35  udp.port                   157800 non-null  float64\n",
      " 36  udp.stream                 157800 non-null  float64\n",
      " 37  udp.time_delta             157800 non-null  float64\n",
      " 38  dns.qry.name               157800 non-null  float64\n",
      " 39  dns.qry.name.len           157800 non-null  object \n",
      " 40  dns.qry.qu                 157800 non-null  float64\n",
      " 41  dns.qry.type               157800 non-null  float64\n",
      " 42  dns.retransmission         157800 non-null  float64\n",
      " 43  dns.retransmit_request     157800 non-null  float64\n",
      " 44  dns.retransmit_request_in  157800 non-null  float64\n",
      " 45  mqtt.conack.flags          157800 non-null  object \n",
      " 46  mqtt.conflag.cleansess     157800 non-null  float64\n",
      " 47  mqtt.conflags              157800 non-null  float64\n",
      " 48  mqtt.hdrflags              157800 non-null  float64\n",
      " 49  mqtt.len                   157800 non-null  float64\n",
      " 50  mqtt.msg_decoded_as        157800 non-null  float64\n",
      " 51  mqtt.msg                   157800 non-null  object \n",
      " 52  mqtt.msgtype               157800 non-null  float64\n",
      " 53  mqtt.proto_len             157800 non-null  float64\n",
      " 54  mqtt.protoname             157800 non-null  object \n",
      " 55  mqtt.topic                 157800 non-null  object \n",
      " 56  mqtt.topic_len             157800 non-null  float64\n",
      " 57  mqtt.ver                   157800 non-null  float64\n",
      " 58  mbtcp.len                  157800 non-null  float64\n",
      " 59  mbtcp.trans_id             157800 non-null  float64\n",
      " 60  mbtcp.unit_id              157800 non-null  float64\n",
      " 61  Attack_label               157800 non-null  int64  \n",
      " 62  Attack_type                157800 non-null  object \n",
      "dtypes: float64(42), int64(1), object(20)\n",
      "memory usage: 75.8+ MB\n"
     ]
    }
   ],
   "source": [
    "df.info()"
   ]
  },
  {
   "cell_type": "code",
   "execution_count": null,
   "id": "ff24dffa",
   "metadata": {},
   "outputs": [],
   "source": []
  },
  {
   "cell_type": "code",
   "execution_count": null,
   "id": "d427f2d2",
   "metadata": {},
   "outputs": [],
   "source": []
  },
  {
   "cell_type": "code",
   "execution_count": null,
   "id": "229c187c",
   "metadata": {},
   "outputs": [],
   "source": []
  },
  {
   "cell_type": "markdown",
   "id": "6fc4df63",
   "metadata": {},
   "source": [
    "## checkiing string data"
   ]
  },
  {
   "cell_type": "markdown",
   "id": "f0602236",
   "metadata": {},
   "source": [
    "1. frame.time - can be used in LSTM layer or converted as the time interval between two frames\n",
    "2. ip.src_host, ip.dst_host, arp.dst_host - can be converted to an id and treated like a group assosiation or converted to one-hot array. Another option is to drop those columns as they are maybe not relevant in the verification of if a message is malicious or not"
   ]
  },
  {
   "cell_type": "code",
   "execution_count": null,
   "id": "106d1746",
   "metadata": {},
   "outputs": [],
   "source": []
  },
  {
   "cell_type": "markdown",
   "id": "e2a54056",
   "metadata": {},
   "source": [
    "### Check the difference in string headers between non-attacking frames and attacking frames"
   ]
  },
  {
   "cell_type": "markdown",
   "id": "6aaa9090",
   "metadata": {},
   "source": [
    "The conclusion from all the verifications below is that HTTP is not used as a protocol of data transferring in a legitimate way in this network as the frames labeld as normal frames have empty http fields\n",
    "\n",
    "Note that this helps us for the binary classification problem and not necessarily for the multilabel task\n",
    "\n",
    "for multilabel classification maybe use dummy encoding"
   ]
  },
  {
   "cell_type": "markdown",
   "id": "615e77b8",
   "metadata": {},
   "source": [
    "#### http.file_data"
   ]
  },
  {
   "cell_type": "code",
   "execution_count": 91,
   "id": "d81db448",
   "metadata": {},
   "outputs": [
    {
     "data": {
      "text/plain": [
       "34064     <!DOCTYPE HTML PUBLIC \"-//IETF//DTD HTML 2.0//...\n",
       "34079     <!DOCTYPE HTML PUBLIC \"-//IETF//DTD HTML 2.0//...\n",
       "34129     <!DOCTYPE HTML PUBLIC \"-//IETF//DTD HTML 2.0//...\n",
       "34144     <!DOCTYPE HTML PUBLIC \"-//IETF//DTD HTML 2.0//...\n",
       "34232     <!DOCTYPE HTML PUBLIC \"-//IETF//DTD HTML 2.0//...\n",
       "                                ...                        \n",
       "104840    <!DOCTYPE HTML PUBLIC \"-//IETF//DTD HTML 2.0//...\n",
       "104873    <!DOCTYPE HTML PUBLIC \"-//IETF//DTD HTML 2.0//...\n",
       "104883    <!DOCTYPE HTML PUBLIC \"-//IETF//DTD HTML 2.0//...\n",
       "104898    <!DOCTYPE HTML PUBLIC \"-//IETF//DTD HTML 2.0//...\n",
       "104906    <!DOCTYPE HTML PUBLIC \"-//IETF//DTD HTML 2.0//...\n",
       "Name: http.file_data, Length: 9471, dtype: object"
      ]
     },
     "execution_count": 91,
     "metadata": {},
     "output_type": "execute_result"
    }
   ],
   "source": [
    "df[df[\"Attack_label\"] == 1][df[\"http.file_data\"] != 0][\"http.file_data\"]"
   ]
  },
  {
   "cell_type": "code",
   "execution_count": 130,
   "id": "00ebba0d",
   "metadata": {},
   "outputs": [
    {
     "data": {
      "text/plain": [
       "494"
      ]
     },
     "execution_count": 130,
     "metadata": {},
     "output_type": "execute_result"
    }
   ],
   "source": [
    "len(df[df[\"Attack_label\"] == 1][df[\"http.file_data\"] != 0][\"http.file_data\"].unique())"
   ]
  },
  {
   "cell_type": "code",
   "execution_count": 98,
   "id": "8fc2bdc6",
   "metadata": {},
   "outputs": [
    {
     "data": {
      "text/plain": [
       "Series([], Name: http.file_data, dtype: object)"
      ]
     },
     "execution_count": 98,
     "metadata": {},
     "output_type": "execute_result"
    }
   ],
   "source": [
    "df[df[\"Attack_label\"] == 0][df[\"http.file_data\"] != 0][\"http.file_data\"]"
   ]
  },
  {
   "cell_type": "markdown",
   "id": "bfaced30",
   "metadata": {},
   "source": [
    "The file_data in non-attack frames is empty and in the attacks frames have data sometimes so maybe i can convert to \"there_is_data\" and \"there_is_no_data\" (categorical values) (it's like this also for the DNN dataset)"
   ]
  },
  {
   "cell_type": "markdown",
   "id": "ee16f61c",
   "metadata": {},
   "source": [
    "#### http.request.uri.query"
   ]
  },
  {
   "cell_type": "code",
   "execution_count": 112,
   "id": "7710446f",
   "metadata": {},
   "outputs": [
    {
     "data": {
      "text/plain": [
       "Series([], Name: http.request.uri.query, dtype: object)"
      ]
     },
     "execution_count": 112,
     "metadata": {},
     "output_type": "execute_result"
    }
   ],
   "source": [
    "df[df[\"Attack_label\"] == 0][df[\"http.request.uri.query\"] != 0][\"http.request.uri.query\"]"
   ]
  },
  {
   "cell_type": "code",
   "execution_count": 224,
   "id": "17b4fa98",
   "metadata": {},
   "outputs": [
    {
     "data": {
      "text/plain": [
       "array(['id=2%20AND%205107%3D2126&Submit=Submitid=53',\n",
       "       'id=2%20AND%201053%3D6910--%20kVQK&Submit=Submitid=53',\n",
       "       'id=2%29%20AND%20EXTRACTVALUE%287898%2CCONCAT%280x5c%2C0x71786a7671%2C%28SELECT%20%28ELT%287898%3D7898%2C1%29%29%29%2C0x71626a7871%29%29%20AND%20%286070%3D6070&Submit=Submitid=53',\n",
       "       ..., 'conteudo=http://cirt.net/rfiinc.txt?',\n",
       "       'REDSYS[MYPATH][TEMPLATES]=http://cirt.net/rfiinc.txt?',\n",
       "       'Codebase=http://cirt.net/rfiinc.txt?'], dtype=object)"
      ]
     },
     "execution_count": 224,
     "metadata": {},
     "output_type": "execute_result"
    }
   ],
   "source": [
    "df[df[\"Attack_label\"] == 1][df[\"http.request.uri.query\"] != 0][\"http.request.uri.query\"].unique()"
   ]
  },
  {
   "cell_type": "markdown",
   "id": "0ffaa06d",
   "metadata": {},
   "source": [
    "The file_data in non-attack frames is empty and in the attacks frames have data sometimes so maybe i can convert to \"there_is_data\" and \"there_is_no_data\" (categorical values) (it's like this also for the DNN dataset)"
   ]
  },
  {
   "cell_type": "code",
   "execution_count": 113,
   "id": "8e7b931e",
   "metadata": {},
   "outputs": [],
   "source": [
    "df_dnn = pd.read_csv('iot_data/datasets/dataset_ML_DL/DNN-EdgeIIoT-dataset.csv')"
   ]
  },
  {
   "cell_type": "markdown",
   "id": "5bdf71f6",
   "metadata": {},
   "source": [
    "#### http.request.method"
   ]
  },
  {
   "cell_type": "code",
   "execution_count": 116,
   "id": "de6e34c4",
   "metadata": {},
   "outputs": [
    {
     "data": {
      "text/plain": [
       "13143       GET\n",
       "13204       GET\n",
       "13208       GET\n",
       "13228       GET\n",
       "13289       GET\n",
       "          ...  \n",
       "104823      GET\n",
       "104839    TRACE\n",
       "104871      GET\n",
       "104897      GET\n",
       "104905      GET\n",
       "Name: http.request.method, Length: 7196, dtype: object"
      ]
     },
     "execution_count": 116,
     "metadata": {},
     "output_type": "execute_result"
    }
   ],
   "source": [
    "df[df[\"Attack_label\"] == 1][df[\"http.request.method\"] != 0][\"http.request.method\"]"
   ]
  },
  {
   "cell_type": "code",
   "execution_count": 119,
   "id": "e028ba61",
   "metadata": {},
   "outputs": [
    {
     "data": {
      "text/plain": [
       "Series([], Name: http.request.method, dtype: object)"
      ]
     },
     "execution_count": 119,
     "metadata": {},
     "output_type": "execute_result"
    }
   ],
   "source": [
    "df_dnn[df_dnn[\"Attack_label\"] == 0][df_dnn[\"http.request.method\"] != 0][df_dnn[\"http.request.method\"] != \"0.0\"][df_dnn[\"http.request.method\"] != \"0\"][\"http.request.method\"]\n"
   ]
  },
  {
   "cell_type": "markdown",
   "id": "a7707e59",
   "metadata": {},
   "source": [
    "The file_data in non-attack frames is empty and in the attacks frames have data sometimes so maybe i can convert to \"there_is_data\" and \"there_is_no_data\" (categorical values) (it's like this also for the DNN dataset)"
   ]
  },
  {
   "cell_type": "markdown",
   "id": "f2d40919",
   "metadata": {},
   "source": [
    "#### http.referer"
   ]
  },
  {
   "cell_type": "code",
   "execution_count": 229,
   "id": "ece6db9a",
   "metadata": {},
   "outputs": [
    {
     "data": {
      "text/plain": [
       "array([], dtype=object)"
      ]
     },
     "execution_count": 229,
     "metadata": {},
     "output_type": "execute_result"
    }
   ],
   "source": [
    "df[df[\"Attack_label\"] == 0][df[\"http.referer\"] != 0][\"http.referer\"].unique()"
   ]
  },
  {
   "cell_type": "code",
   "execution_count": 122,
   "id": "0effbb8c",
   "metadata": {},
   "outputs": [
    {
     "data": {
      "text/plain": [
       "Series([], Name: http.referer, dtype: object)"
      ]
     },
     "execution_count": 122,
     "metadata": {},
     "output_type": "execute_result"
    }
   ],
   "source": [
    "df_dnn[df_dnn[\"Attack_label\"] == 0][df_dnn[\"http.referer\"] != 0][df_dnn[\"http.referer\"] != \"0.0\"][df_dnn[\"http.referer\"] != \"0\"][\"http.referer\"]\n"
   ]
  },
  {
   "cell_type": "markdown",
   "id": "b25b89d7",
   "metadata": {},
   "source": [
    "The file_data in non-attack frames is empty and in the attacks frames have data sometimes so maybe i can convert to \"there_is_data\" and \"there_is_no_data\" (categorical values) (it's like this also for the DNN dataset)"
   ]
  },
  {
   "cell_type": "markdown",
   "id": "6e738064",
   "metadata": {},
   "source": [
    "#### http.request.full_uri"
   ]
  },
  {
   "cell_type": "code",
   "execution_count": 232,
   "id": "2889f6b6",
   "metadata": {},
   "outputs": [
    {
     "data": {
      "text/plain": [
       "0"
      ]
     },
     "execution_count": 232,
     "metadata": {},
     "output_type": "execute_result"
    }
   ],
   "source": [
    "len(df[df[\"Attack_label\"] == 0][df[\"http.request.full_uri\"] != 0][\"http.request.full_uri\"].unique())"
   ]
  },
  {
   "cell_type": "code",
   "execution_count": 125,
   "id": "4f704309",
   "metadata": {},
   "outputs": [
    {
     "data": {
      "text/plain": [
       "Series([], Name: http.request.full_uri, dtype: object)"
      ]
     },
     "execution_count": 125,
     "metadata": {},
     "output_type": "execute_result"
    }
   ],
   "source": [
    "df_dnn[df_dnn[\"Attack_label\"] == 0][df_dnn[\"http.request.full_uri\"] != 0][df_dnn[\"http.request.full_uri\"] != \"0.0\"][df_dnn[\"http.request.full_uri\"] != \"0\"][\"http.request.full_uri\"]\n"
   ]
  },
  {
   "cell_type": "markdown",
   "id": "d21f43cb",
   "metadata": {},
   "source": [
    "The file_data in non-attack frames is empty and in the attacks frames have data sometimes so maybe i can convert to \"there_is_data\" and \"there_is_no_data\" (categorical values) (it's like this also for the DNN dataset)"
   ]
  },
  {
   "cell_type": "markdown",
   "id": "40e4a406",
   "metadata": {},
   "source": [
    "####  http.request.version"
   ]
  },
  {
   "cell_type": "code",
   "execution_count": 234,
   "id": "ef2c2a4c",
   "metadata": {},
   "outputs": [
    {
     "data": {
      "text/plain": [
       "array([], dtype=object)"
      ]
     },
     "execution_count": 234,
     "metadata": {},
     "output_type": "execute_result"
    }
   ],
   "source": [
    "df[df[\"Attack_label\"] == 0][df[\"http.request.version\"] != 0][\"http.request.version\"].unique()"
   ]
  },
  {
   "cell_type": "code",
   "execution_count": 127,
   "id": "81834900",
   "metadata": {},
   "outputs": [
    {
     "data": {
      "text/plain": [
       "Series([], Name: http.request.version, dtype: object)"
      ]
     },
     "execution_count": 127,
     "metadata": {},
     "output_type": "execute_result"
    }
   ],
   "source": [
    "df_dnn[df_dnn[\"Attack_label\"] == 0][df_dnn[\"http.request.version\"] != 0][df_dnn[\"http.request.version\"] != \"0.0\"][df_dnn[\"http.request.version\"] != \"0\"][\"http.request.version\"]\n"
   ]
  },
  {
   "cell_type": "markdown",
   "id": "43a15137",
   "metadata": {},
   "source": [
    "The file_data in non-attack frames is empty and in the attacks frames have data sometimes so maybe i can convert to \"there_is_data\" and \"there_is_no_data\" (categorical values) (it's like this also for the DNN dataset)"
   ]
  },
  {
   "cell_type": "code",
   "execution_count": null,
   "id": "15da4209",
   "metadata": {},
   "outputs": [],
   "source": []
  },
  {
   "cell_type": "markdown",
   "id": "5e6ce871",
   "metadata": {},
   "source": [
    "#### tcp.options"
   ]
  },
  {
   "cell_type": "code",
   "execution_count": 239,
   "id": "1593d62a",
   "metadata": {},
   "outputs": [
    {
     "data": {
      "text/plain": [
       "array(['67.0', '5355.0', '5353.0', ..., '0101080a9e4e88c59ac0f5fb',\n",
       "       '0101080a9ac0f5fa9e4e88bc', '0101080a9ac0f6019e4e88c1'],\n",
       "      dtype=object)"
      ]
     },
     "execution_count": 239,
     "metadata": {},
     "output_type": "execute_result"
    }
   ],
   "source": [
    "df[df[\"Attack_label\"] == 1][df[\"tcp.options\"] != 0][\"tcp.options\"].unique()"
   ]
  },
  {
   "cell_type": "markdown",
   "id": "45d100df",
   "metadata": {},
   "source": [
    "This is an hex number describing the tcp.options field in the transported frames.\n",
    "I can either convert it to a number and normalize it or decode it and create categorical values"
   ]
  },
  {
   "cell_type": "markdown",
   "id": "8fbed25d",
   "metadata": {},
   "source": [
    "#### tcp.payload"
   ]
  },
  {
   "cell_type": "code",
   "execution_count": 155,
   "id": "8331683f",
   "metadata": {},
   "outputs": [],
   "source": [
    "def count_unique_ratio(df, field_name, attack=1):\n",
    "    # Count the number of unique values and total rows\n",
    "    unique_count = df[df[\"Attack_label\"] == attack][df[field_name] != 0][field_name].nunique()\n",
    "    total_rows = len(df)\n",
    "\n",
    "    # Calculate and return the ratio\n",
    "    return unique_count / total_rows\n"
   ]
  },
  {
   "cell_type": "code",
   "execution_count": 243,
   "id": "b82a8a6c",
   "metadata": {},
   "outputs": [
    {
     "data": {
      "text/plain": [
       "array(['20020000', '100c00044d5154540402003c0000', 'e000', ...,\n",
       "       '3027001854656d70657261747572655f616e645f48756d696469747932332e39352037352e31320d0a',\n",
       "       '3027001854656d70657261747572655f616e645f48756d696469747932332e39382037352e31360d0a',\n",
       "       '3027001854656d70657261747572655f616e645f48756d696469747932342e30312037352e32310d0a'],\n",
       "      dtype=object)"
      ]
     },
     "execution_count": 243,
     "metadata": {},
     "output_type": "execute_result"
    }
   ],
   "source": [
    "df[df[\"Attack_label\"] == 0][df[\"tcp.payload\"] != 0][\"tcp.payload\"].unique()"
   ]
  },
  {
   "cell_type": "code",
   "execution_count": 156,
   "id": "d5e284b4",
   "metadata": {},
   "outputs": [
    {
     "data": {
      "text/plain": [
       "0.15423320659062104"
      ]
     },
     "execution_count": 156,
     "metadata": {},
     "output_type": "execute_result"
    }
   ],
   "source": [
    "count_unique_ratio(df, \"tcp.payload\", attack=1)"
   ]
  },
  {
   "cell_type": "code",
   "execution_count": 157,
   "id": "670abd1b",
   "metadata": {},
   "outputs": [
    {
     "data": {
      "text/plain": [
       "0.019195183776932825"
      ]
     },
     "execution_count": 157,
     "metadata": {},
     "output_type": "execute_result"
    }
   ],
   "source": [
    "count_unique_ratio(df, \"tcp.payload\", attack=0)"
   ]
  },
  {
   "cell_type": "markdown",
   "id": "7f85b1bf",
   "metadata": {},
   "source": [
    "There are more unique values compared to the number of rows of tcp.payload for non-attack frames"
   ]
  },
  {
   "cell_type": "markdown",
   "id": "574746b9",
   "metadata": {},
   "source": [
    "#### tcp.srcport"
   ]
  },
  {
   "cell_type": "code",
   "execution_count": 414,
   "id": "e89bfe75",
   "metadata": {},
   "outputs": [
    {
     "data": {
      "text/plain": [
       "array([33047., 65535., 44965., ..., 63006.,  3416.,  3922.])"
      ]
     },
     "execution_count": 414,
     "metadata": {},
     "output_type": "execute_result"
    }
   ],
   "source": [
    "df[df[\"Attack_label\"] == 1][df[\"tcp.srcport\"] != 0][\"tcp.srcport\"].unique()"
   ]
  },
  {
   "cell_type": "code",
   "execution_count": 189,
   "id": "30518ec3",
   "metadata": {},
   "outputs": [
    {
     "name": "stdout",
     "output_type": "stream",
     "text": [
      "index: 1615673, data: DESKTOP-UHF0SF2\n",
      "index: 1615675, data: DESKTOP-UHF0SF2.local\n",
      "index: 1615676, data: DESKTOP-UHF0SF2.local\n",
      "index: 1615678, data: DESKTOP-UHF0SF2\n",
      "index: 1615683, data: DESKTOP-UHF0SF2.local\n",
      "index: 1615684, data: DESKTOP-UHF0SF2\n",
      "index: 1615685, data: DESKTOP-UHF0SF2.local\n",
      "index: 1615686, data: DESKTOP-UHF0SF2\n",
      "index: 1615708, data: _googlecast._tcp.local\n",
      "index: 1615709, data: _googlecast._tcp.local\n",
      "index: 1615710, data: _googlecast._tcp.local\n",
      "index: 1615711, data: _googlecast._tcp.local\n",
      "index: 1615713, data: _googlecast._tcp.local\n",
      "index: 1615714, data: _googlecast._tcp.local\n",
      "index: 1615715, data: _googlecast._tcp.local\n",
      "index: 1615716, data: _googlecast._tcp.local\n",
      "index: 1615717, data: _googlecast._tcp.local\n",
      "index: 1615718, data: _googlecast._tcp.local\n",
      "index: 1615719, data: _googlecast._tcp.local\n",
      "index: 1615720, data: _googlecast._tcp.local\n",
      "index: 1615729, data: DESKTOP-UHF0SF2\n",
      "index: 1615730, data: DESKTOP-UHF0SF2\n",
      "index: 1615733, data: DESKTOP-UHF0SF2.local\n",
      "index: 1615734, data: DESKTOP-UHF0SF2.local\n",
      "index: 1615735, data: DESKTOP-UHF0SF2\n",
      "index: 1615738, data: DESKTOP-UHF0SF2.local\n",
      "index: 1615739, data: DESKTOP-UHF0SF2.local\n",
      "index: 1615740, data: DESKTOP-UHF0SF2\n",
      "index: 1615758, data: _googlecast._tcp.local\n",
      "index: 1615759, data: _googlecast._tcp.local\n",
      "index: 1615760, data: _googlecast._tcp.local\n",
      "index: 1615761, data: _googlecast._tcp.local\n",
      "index: 1615763, data: _googlecast._tcp.local\n",
      "index: 1615764, data: _googlecast._tcp.local\n",
      "index: 1615765, data: _googlecast._tcp.local\n",
      "index: 1615766, data: _googlecast._tcp.local\n",
      "index: 1615769, data: _googlecast._tcp.local\n",
      "index: 1615770, data: _googlecast._tcp.local\n",
      "index: 1615771, data: _googlecast._tcp.local\n",
      "index: 1615772, data: _googlecast._tcp.local\n",
      "index: 1615798, data: DESKTOP-UHF0SF2\n",
      "index: 1615799, data: DESKTOP-UHF0SF2\n",
      "index: 1615801, data: DESKTOP-UHF0SF2.local\n",
      "index: 1615802, data: DESKTOP-UHF0SF2.local\n",
      "index: 1615803, data: DESKTOP-UHF0SF2\n",
      "index: 1615808, data: DESKTOP-UHF0SF2.local\n",
      "index: 1615809, data: DESKTOP-UHF0SF2.local\n",
      "index: 1615810, data: DESKTOP-UHF0SF2\n",
      "index: 1615832, data: _googlecast._tcp.local\n",
      "index: 1615833, data: _googlecast._tcp.local\n",
      "index: 1615834, data: _googlecast._tcp.local\n",
      "index: 1615835, data: _googlecast._tcp.local\n",
      "index: 1615837, data: _googlecast._tcp.local\n",
      "index: 1615838, data: _googlecast._tcp.local\n",
      "index: 1615839, data: _googlecast._tcp.local\n",
      "index: 1615840, data: _googlecast._tcp.local\n",
      "index: 1615841, data: _googlecast._tcp.local\n",
      "index: 1615842, data: _googlecast._tcp.local\n",
      "index: 1615843, data: _googlecast._tcp.local\n",
      "index: 1615844, data: _googlecast._tcp.local\n",
      "index: 1615847, data: DESKTOP-UHF0SF2\n",
      "index: 1615850, data: DESKTOP-UHF0SF2.local\n",
      "index: 1615851, data: DESKTOP-UHF0SF2.local\n",
      "index: 1615852, data: DESKTOP-UHF0SF2\n",
      "index: 1615857, data: DESKTOP-UHF0SF2.local\n",
      "index: 1615858, data: DESKTOP-UHF0SF2.local\n",
      "index: 1615859, data: DESKTOP-UHF0SF2\n",
      "index: 1615860, data: DESKTOP-UHF0SF2\n",
      "index: 1615878, data: _googlecast._tcp.local\n",
      "index: 1615879, data: _googlecast._tcp.local\n",
      "index: 1615880, data: _googlecast._tcp.local\n",
      "index: 1615881, data: _googlecast._tcp.local\n",
      "index: 1615883, data: _googlecast._tcp.local\n",
      "index: 1615884, data: _googlecast._tcp.local\n",
      "index: 1615885, data: _googlecast._tcp.local\n",
      "index: 1615886, data: _googlecast._tcp.local\n",
      "index: 1615887, data: _googlecast._tcp.local\n",
      "index: 1615888, data: _googlecast._tcp.local\n",
      "index: 1615889, data: _googlecast._tcp.local\n",
      "index: 1615890, data: _googlecast._tcp.local\n",
      "index: 1615903, data: DESKTOP-UHF0SF2.local\n",
      "index: 1615906, data: DESKTOP-UHF0SF2.local\n",
      "index: 1615907, data: DESKTOP-UHF0SF2\n",
      "index: 1615912, data: DESKTOP-UHF0SF2.local\n",
      "index: 1615913, data: DESKTOP-UHF0SF2.local\n",
      "index: 1615914, data: DESKTOP-UHF0SF2\n",
      "index: 1615921, data: DESKTOP-UHF0SF2\n",
      "index: 1615922, data: DESKTOP-UHF0SF2\n",
      "index: 1615932, data: DESKTOP-UHF0SF2.local\n",
      "index: 1615933, data: DESKTOP-UHF0SF2.local\n",
      "index: 1615934, data: DESKTOP-UHF0SF2\n",
      "index: 1615939, data: DESKTOP-UHF0SF2.local\n",
      "index: 1615940, data: DESKTOP-UHF0SF2.local\n",
      "index: 1615941, data: DESKTOP-UHF0SF2\n",
      "index: 1615948, data: DESKTOP-UHF0SF2\n",
      "index: 1615960, data: _googlecast._tcp.local\n",
      "index: 1615961, data: _googlecast._tcp.local\n",
      "index: 1615962, data: _googlecast._tcp.local\n",
      "index: 1615963, data: _googlecast._tcp.local\n",
      "index: 1615965, data: _googlecast._tcp.local\n",
      "index: 1615966, data: _googlecast._tcp.local\n",
      "index: 1615967, data: _googlecast._tcp.local\n",
      "index: 1615968, data: _googlecast._tcp.local\n",
      "index: 1615969, data: _googlecast._tcp.local\n",
      "index: 1615970, data: _googlecast._tcp.local\n",
      "index: 1615971, data: _googlecast._tcp.local\n",
      "index: 1615972, data: _googlecast._tcp.local\n",
      "index: 1615975, data: DESKTOP-UHF0SF2\n",
      "index: 1615976, data: DESKTOP-UHF0SF2\n",
      "index: 1615977, data: DESKTOP-UHF0SF2.local\n",
      "index: 1615978, data: DESKTOP-UHF0SF2\n",
      "index: 1615981, data: DESKTOP-UHF0SF2.local\n",
      "index: 1615982, data: DESKTOP-UHF0SF2\n",
      "index: 1615987, data: DESKTOP-UHF0SF2.local\n",
      "index: 1615988, data: DESKTOP-UHF0SF2.local\n",
      "index: 1616006, data: _googlecast._tcp.local\n",
      "index: 1616007, data: _googlecast._tcp.local\n",
      "index: 1616008, data: _googlecast._tcp.local\n",
      "index: 1616009, data: _googlecast._tcp.local\n",
      "index: 1616011, data: _googlecast._tcp.local\n",
      "index: 1616012, data: _googlecast._tcp.local\n",
      "index: 1616013, data: _googlecast._tcp.local\n",
      "index: 1616014, data: _googlecast._tcp.local\n",
      "index: 1616015, data: _googlecast._tcp.local\n",
      "index: 1616016, data: _googlecast._tcp.local\n",
      "index: 1616017, data: _googlecast._tcp.local\n",
      "index: 1616018, data: _googlecast._tcp.local\n",
      "index: 1616024, data: DESKTOP-UHF0SF2\n",
      "index: 1616025, data: DESKTOP-UHF0SF2\n",
      "index: 1616033, data: DESKTOP-UHF0SF2.local\n",
      "index: 1616034, data: DESKTOP-UHF0SF2.local\n",
      "index: 1616035, data: DESKTOP-UHF0SF2\n",
      "index: 1616040, data: DESKTOP-UHF0SF2.local\n",
      "index: 1616041, data: DESKTOP-UHF0SF2.local\n",
      "index: 1616042, data: DESKTOP-UHF0SF2\n",
      "index: 1616055, data: _googlecast._tcp.local\n",
      "index: 1616056, data: _googlecast._tcp.local\n",
      "index: 1616057, data: _googlecast._tcp.local\n",
      "index: 1616058, data: _googlecast._tcp.local\n",
      "index: 1616062, data: _googlecast._tcp.local\n",
      "index: 1616063, data: _googlecast._tcp.local\n",
      "index: 1616064, data: _googlecast._tcp.local\n",
      "index: 1616065, data: _googlecast._tcp.local\n",
      "index: 1616066, data: _googlecast._tcp.local\n",
      "index: 1616067, data: _googlecast._tcp.local\n",
      "index: 1616068, data: _googlecast._tcp.local\n",
      "index: 1616069, data: _googlecast._tcp.local\n",
      "index: 1616076, data: DESKTOP-UHF0SF2.local\n",
      "index: 1616078, data: DESKTOP-UHF0SF2.local\n",
      "index: 1616079, data: DESKTOP-UHF0SF2\n",
      "index: 1616083, data: DESKTOP-UHF0SF2\n",
      "index: 1616085, data: DESKTOP-UHF0SF2.local\n",
      "index: 1616086, data: DESKTOP-UHF0SF2.local\n",
      "index: 1616087, data: DESKTOP-UHF0SF2\n",
      "index: 1616111, data: _googlecast._tcp.local\n",
      "index: 1616112, data: _googlecast._tcp.local\n",
      "index: 1616113, data: _googlecast._tcp.local\n",
      "index: 1616115, data: _googlecast._tcp.local\n",
      "index: 1616118, data: DESKTOP-UHF0SF2.local\n",
      "index: 1616119, data: DESKTOP-UHF0SF2.local\n",
      "index: 1616120, data: DESKTOP-UHF0SF2\n",
      "index: 1616125, data: DESKTOP-UHF0SF2.local\n",
      "index: 1616126, data: DESKTOP-UHF0SF2.local\n",
      "index: 1616127, data: DESKTOP-UHF0SF2\n",
      "index: 1616137, data: _googlecast._tcp.local\n",
      "index: 1616138, data: _googlecast._tcp.local\n",
      "index: 1616139, data: _googlecast._tcp.local\n",
      "index: 1616140, data: _googlecast._tcp.local\n",
      "index: 1616144, data: _googlecast._tcp.local\n",
      "index: 1616145, data: _googlecast._tcp.local\n",
      "index: 1616146, data: _googlecast._tcp.local\n",
      "index: 1616147, data: _googlecast._tcp.local\n",
      "index: 1616152, data: _googlecast._tcp.local\n",
      "index: 1616153, data: _googlecast._tcp.local\n",
      "index: 1616154, data: _googlecast._tcp.local\n",
      "index: 1616155, data: _googlecast._tcp.local\n",
      "index: 1616157, data: _googlecast._tcp.local\n",
      "index: 1616158, data: _googlecast._tcp.local\n",
      "index: 1616159, data: _googlecast._tcp.local\n",
      "index: 1616160, data: _googlecast._tcp.local\n",
      "index: 1616161, data: _googlecast._tcp.local\n",
      "index: 1616162, data: _googlecast._tcp.local\n",
      "index: 1616163, data: _googlecast._tcp.local\n",
      "index: 1616164, data: _googlecast._tcp.local\n",
      "index: 1616183, data: DESKTOP-UHF0SF2\n",
      "index: 1616188, data: DESKTOP-UHF0SF2.local\n",
      "index: 1616189, data: DESKTOP-UHF0SF2.local\n",
      "index: 1616190, data: DESKTOP-UHF0SF2\n",
      "index: 1616208, data: _googlecast._tcp.local\n",
      "index: 1616209, data: _googlecast._tcp.local\n",
      "index: 1616210, data: _googlecast._tcp.local\n",
      "index: 1616211, data: _googlecast._tcp.local\n",
      "index: 1616213, data: _googlecast._tcp.local\n",
      "index: 1616214, data: _googlecast._tcp.local\n",
      "index: 1616215, data: _googlecast._tcp.local\n",
      "index: 1616216, data: _googlecast._tcp.local\n",
      "index: 1616217, data: _googlecast._tcp.local\n",
      "index: 1616218, data: _googlecast._tcp.local\n",
      "index: 1616219, data: _googlecast._tcp.local\n",
      "index: 1616220, data: _googlecast._tcp.local\n",
      "index: 1616229, data: DESKTOP-UHF0SF2\n",
      "index: 1616230, data: DESKTOP-UHF0SF2\n",
      "index: 1616233, data: DESKTOP-UHF0SF2.local\n",
      "index: 1616234, data: DESKTOP-UHF0SF2.local\n",
      "index: 1616235, data: DESKTOP-UHF0SF2\n",
      "index: 1616240, data: DESKTOP-UHF0SF2.local\n",
      "index: 1616241, data: DESKTOP-UHF0SF2.local\n",
      "index: 1616242, data: DESKTOP-UHF0SF2\n",
      "index: 1616263, data: _googlecast._tcp.local\n",
      "index: 1616264, data: _googlecast._tcp.local\n",
      "index: 1616265, data: _googlecast._tcp.local\n",
      "index: 1616266, data: _googlecast._tcp.local\n",
      "index: 1616268, data: _googlecast._tcp.local\n",
      "index: 1616269, data: _googlecast._tcp.local\n",
      "index: 1616270, data: _googlecast._tcp.local\n",
      "index: 1616271, data: _googlecast._tcp.local\n",
      "index: 1616272, data: _googlecast._tcp.local\n",
      "index: 1616273, data: _googlecast._tcp.local\n",
      "index: 1616274, data: _googlecast._tcp.local\n",
      "index: 1616275, data: _googlecast._tcp.local\n",
      "index: 1616285, data: DESKTOP-UHF0SF2\n",
      "index: 1616287, data: DESKTOP-UHF0SF2\n",
      "index: 1616289, data: DESKTOP-UHF0SF2.local\n",
      "index: 1616290, data: DESKTOP-UHF0SF2.local\n",
      "index: 1616291, data: DESKTOP-UHF0SF2\n",
      "index: 1616302, data: DESKTOP-UHF0SF2.local\n",
      "index: 1616303, data: DESKTOP-UHF0SF2.local\n",
      "index: 1616304, data: DESKTOP-UHF0SF2\n",
      "index: 1616318, data: DESKTOP-UHF0SF2\n",
      "index: 1616321, data: DESKTOP-UHF0SF2.local\n",
      "index: 1616322, data: DESKTOP-UHF0SF2.local\n",
      "index: 1616323, data: DESKTOP-UHF0SF2\n",
      "index: 1616334, data: DESKTOP-UHF0SF2.local\n",
      "index: 1616335, data: DESKTOP-UHF0SF2.local\n",
      "index: 1616336, data: DESKTOP-UHF0SF2\n",
      "index: 1616337, data: DESKTOP-UHF0SF2\n",
      "index: 1616342, data: _googlecast._tcp.local\n",
      "index: 1616343, data: _googlecast._tcp.local\n",
      "index: 1616344, data: _googlecast._tcp.local\n",
      "index: 1616345, data: _googlecast._tcp.local\n",
      "index: 1616348, data: _googlecast._tcp.local\n",
      "index: 1616349, data: _googlecast._tcp.local\n",
      "index: 1616350, data: _googlecast._tcp.local\n",
      "index: 1616351, data: _googlecast._tcp.local\n",
      "index: 1616354, data: _googlecast._tcp.local\n",
      "index: 1616355, data: _googlecast._tcp.local\n",
      "index: 1616356, data: _googlecast._tcp.local\n",
      "index: 1616357, data: _googlecast._tcp.local\n",
      "index: 1616363, data: _googlecast._tcp.local\n",
      "index: 1616364, data: _googlecast._tcp.local\n",
      "index: 1616365, data: _googlecast._tcp.local\n",
      "index: 1616366, data: _googlecast._tcp.local\n",
      "index: 1616368, data: _googlecast._tcp.local\n",
      "index: 1616369, data: _googlecast._tcp.local\n",
      "index: 1616370, data: _googlecast._tcp.local\n",
      "index: 1616371, data: _googlecast._tcp.local\n",
      "index: 1616374, data: _googlecast._tcp.local\n",
      "index: 1616375, data: _googlecast._tcp.local\n",
      "index: 1616376, data: _googlecast._tcp.local\n",
      "index: 1616377, data: _googlecast._tcp.local\n",
      "index: 1616379, data: DESKTOP-UHF0SF2.local\n",
      "index: 1616382, data: DESKTOP-UHF0SF2.local\n",
      "index: 1616383, data: DESKTOP-UHF0SF2\n",
      "index: 1616385, data: DESKTOP-UHF0SF2\n",
      "index: 1616390, data: DESKTOP-UHF0SF2.local\n",
      "index: 1616391, data: DESKTOP-UHF0SF2.local\n",
      "index: 1616392, data: DESKTOP-UHF0SF2\n",
      "index: 1616393, data: DESKTOP-UHF0SF2\n",
      "index: 1616411, data: _googlecast._tcp.local\n",
      "index: 1616412, data: _googlecast._tcp.local\n",
      "index: 1616413, data: _googlecast._tcp.local\n",
      "index: 1616414, data: _googlecast._tcp.local\n",
      "index: 1616416, data: _googlecast._tcp.local\n",
      "index: 1616417, data: _googlecast._tcp.local\n",
      "index: 1616418, data: _googlecast._tcp.local\n",
      "index: 1616419, data: _googlecast._tcp.local\n",
      "index: 1616420, data: _googlecast._tcp.local\n",
      "index: 1616421, data: _googlecast._tcp.local\n",
      "index: 1616422, data: _googlecast._tcp.local\n",
      "index: 1616423, data: _googlecast._tcp.local\n",
      "index: 1616428, data: DESKTOP-UHF0SF2\n",
      "index: 1616429, data: DESKTOP-UHF0SF2\n",
      "index: 1616432, data: DESKTOP-UHF0SF2.local\n",
      "index: 1616433, data: DESKTOP-UHF0SF2.local\n",
      "index: 1616434, data: DESKTOP-UHF0SF2\n",
      "index: 1616439, data: DESKTOP-UHF0SF2.local\n",
      "index: 1616440, data: DESKTOP-UHF0SF2.local\n",
      "index: 1616441, data: DESKTOP-UHF0SF2\n",
      "index: 1616459, data: _googlecast._tcp.local\n",
      "index: 1616460, data: _googlecast._tcp.local\n",
      "index: 1616461, data: _googlecast._tcp.local\n",
      "index: 1616462, data: _googlecast._tcp.local\n",
      "index: 1616464, data: _googlecast._tcp.local\n",
      "index: 1616465, data: _googlecast._tcp.local\n",
      "index: 1616466, data: _googlecast._tcp.local\n",
      "index: 1616467, data: _googlecast._tcp.local\n",
      "index: 1616468, data: _googlecast._tcp.local\n",
      "index: 1616469, data: _googlecast._tcp.local\n",
      "index: 1616470, data: _googlecast._tcp.local\n",
      "index: 1616471, data: _googlecast._tcp.local\n",
      "index: 1616478, data: DESKTOP-UHF0SF2\n",
      "index: 1616479, data: DESKTOP-UHF0SF2.local\n",
      "index: 1616482, data: DESKTOP-UHF0SF2.local\n",
      "index: 1616483, data: DESKTOP-UHF0SF2\n",
      "index: 1616495, data: DESKTOP-UHF0SF2.local\n",
      "index: 1616496, data: DESKTOP-UHF0SF2\n",
      "index: 1616497, data: DESKTOP-UHF0SF2.local\n",
      "index: 1616498, data: DESKTOP-UHF0SF2\n",
      "index: 1616510, data: DESKTOP-UHF0SF2.local\n",
      "index: 1616511, data: DESKTOP-UHF0SF2.local\n",
      "index: 1616512, data: DESKTOP-UHF0SF2\n",
      "index: 1616513, data: DESKTOP-UHF0SF2\n",
      "index: 1616514, data: DESKTOP-UHF0SF2\n",
      "index: 1616519, data: DESKTOP-UHF0SF2.local\n",
      "index: 1616520, data: DESKTOP-UHF0SF2.local\n",
      "index: 1616521, data: DESKTOP-UHF0SF2\n",
      "index: 1616539, data: _googlecast._tcp.local\n",
      "index: 1616540, data: _googlecast._tcp.local\n",
      "index: 1616541, data: _googlecast._tcp.local\n",
      "index: 1616542, data: _googlecast._tcp.local\n",
      "index: 1616544, data: _googlecast._tcp.local\n",
      "index: 1616545, data: _googlecast._tcp.local\n",
      "index: 1616546, data: _googlecast._tcp.local\n",
      "index: 1616547, data: _googlecast._tcp.local\n",
      "index: 1616548, data: _googlecast._tcp.local\n",
      "index: 1616549, data: _googlecast._tcp.local\n",
      "index: 1616550, data: _googlecast._tcp.local\n",
      "index: 1616551, data: _googlecast._tcp.local\n",
      "index: 1616555, data: DESKTOP-UHF0SF2\n",
      "index: 1616556, data: DESKTOP-UHF0SF2.local\n",
      "index: 1616559, data: DESKTOP-UHF0SF2.local\n",
      "index: 1616560, data: DESKTOP-UHF0SF2\n",
      "index: 1616572, data: DESKTOP-UHF0SF2.local\n",
      "index: 1616573, data: DESKTOP-UHF0SF2.local\n",
      "index: 1616574, data: DESKTOP-UHF0SF2\n",
      "index: 1616575, data: DESKTOP-UHF0SF2\n",
      "index: 1616585, data: _googlecast._tcp.local\n",
      "index: 1616588, data: _googlecast._tcp.local\n",
      "index: 1616589, data: _googlecast._tcp.local\n",
      "index: 1616590, data: _googlecast._tcp.local\n",
      "index: 1616592, data: _googlecast._tcp.local\n",
      "index: 1616593, data: _googlecast._tcp.local\n",
      "index: 1616594, data: _googlecast._tcp.local\n",
      "index: 1616595, data: _googlecast._tcp.local\n",
      "index: 1616596, data: _googlecast._tcp.local\n",
      "index: 1616597, data: _googlecast._tcp.local\n",
      "index: 1616598, data: _googlecast._tcp.local\n",
      "index: 1616599, data: _googlecast._tcp.local\n",
      "index: 1616628, data: DESKTOP-UHF0SF2\n",
      "index: 1616629, data: DESKTOP-UHF0SF2\n",
      "index: 1616631, data: DESKTOP-UHF0SF2.local\n",
      "index: 1616632, data: DESKTOP-UHF0SF2\n",
      "index: 1616637, data: DESKTOP-UHF0SF2.local\n",
      "index: 1616638, data: DESKTOP-UHF0SF2.local\n",
      "index: 1616639, data: DESKTOP-UHF0SF2\n",
      "index: 1616657, data: _googlecast._tcp.local\n",
      "index: 1616658, data: _googlecast._tcp.local\n",
      "index: 1616659, data: _googlecast._tcp.local\n",
      "index: 1616660, data: _googlecast._tcp.local\n",
      "index: 1616662, data: _googlecast._tcp.local\n",
      "index: 1616663, data: _googlecast._tcp.local\n",
      "index: 1616664, data: _googlecast._tcp.local\n",
      "index: 1616665, data: _googlecast._tcp.local\n",
      "index: 1616666, data: _googlecast._tcp.local\n",
      "index: 1616667, data: _googlecast._tcp.local\n",
      "index: 1616668, data: _googlecast._tcp.local\n",
      "index: 1616669, data: _googlecast._tcp.local\n"
     ]
    },
    {
     "name": "stdout",
     "output_type": "stream",
     "text": [
      "367\n"
     ]
    }
   ],
   "source": [
    "counter = 0\n",
    "\n",
    "for index, row in df[df[\"Attack_label\"] == 1].iterrows():\n",
    "    if type(row[\"tcp.srcport\"]) != float:\n",
    "        try:\n",
    "            row[\"tcp.srcport\"] = float(row[\"tcp.srcport\"])\n",
    "        except:\n",
    "            counter+=1\n",
    "            print(f\"index: {index}, data: {row['tcp.srcport']}\")\n",
    "print(counter)"
   ]
  },
  {
   "cell_type": "markdown",
   "id": "14e46723",
   "metadata": {},
   "source": [
    "for some reason the 367 rows in the MITM data are corrupted as the tcp source port has wrong data type and some fields are filled in tcp and in udp...\n",
    "\n",
    "concider dropping those rows"
   ]
  },
  {
   "cell_type": "code",
   "execution_count": null,
   "id": "21357358",
   "metadata": {},
   "outputs": [],
   "source": []
  },
  {
   "cell_type": "markdown",
   "id": "1cee45ab",
   "metadata": {},
   "source": [
    "#### dns.qry.name.len"
   ]
  },
  {
   "cell_type": "code",
   "execution_count": null,
   "id": "67c64cf9",
   "metadata": {},
   "outputs": [],
   "source": []
  },
  {
   "cell_type": "code",
   "execution_count": 196,
   "id": "6dcbe560",
   "metadata": {},
   "outputs": [
    {
     "name": "stdout",
     "output_type": "stream",
     "text": [
      "0\n"
     ]
    }
   ],
   "source": [
    "counter = 0\n",
    "\n",
    "for index, row in df[df[\"Attack_label\"] == 1].iterrows():\n",
    "    if type(row[\"dns.qry.name.len\"]) != float:\n",
    "        try:\n",
    "            print(index)\n",
    "            row[\"dns.qry.name.len\"] = float(row[\"dns.qry.name.len\"])\n",
    "        except:\n",
    "            counter+=1\n",
    "            print(f\"index: {index}, data: {row['dns.qry.name.len']}\")\n",
    "print(counter)"
   ]
  },
  {
   "cell_type": "code",
   "execution_count": null,
   "id": "df7eab42",
   "metadata": {},
   "outputs": [],
   "source": []
  },
  {
   "cell_type": "markdown",
   "id": "20da896b",
   "metadata": {},
   "source": [
    "#### mqtt.conack.flags"
   ]
  },
  {
   "cell_type": "code",
   "execution_count": 270,
   "id": "7ea484c7",
   "metadata": {},
   "outputs": [
    {
     "data": {
      "text/plain": [
       "Series([], Name: mqtt.conack.flags, dtype: object)"
      ]
     },
     "execution_count": 270,
     "metadata": {},
     "output_type": "execute_result"
    }
   ],
   "source": [
    "df[df[\"Attack_label\"] == 1][df[\"mqtt.conack.flags\"] != 0][df[\"mqtt.conack.flags\"] != \"0x00000000\"][\"mqtt.conack.flags\"]"
   ]
  },
  {
   "cell_type": "code",
   "execution_count": 206,
   "id": "b5b209d3",
   "metadata": {},
   "outputs": [
    {
     "data": {
      "text/plain": [
       "array([0.0], dtype=object)"
      ]
     },
     "execution_count": 206,
     "metadata": {},
     "output_type": "execute_result"
    }
   ],
   "source": [
    "df[\"mqtt.conack.flags\"].unique()"
   ]
  },
  {
   "cell_type": "code",
   "execution_count": 204,
   "id": "2928905e",
   "metadata": {},
   "outputs": [],
   "source": [
    "def convert_to_float2(df):\n",
    "    \"\"\"Converts \"0\", \"0.0\", or 0 to float(0.0) in a DataFrame\"\"\"\n",
    "    cond = (df == \"0x00000000\")\n",
    "    return df.where(~cond, float(0.0))\n",
    "\n",
    "df = convert_to_float2(df.copy())"
   ]
  },
  {
   "cell_type": "code",
   "execution_count": null,
   "id": "157768d5",
   "metadata": {},
   "outputs": [],
   "source": []
  },
  {
   "cell_type": "markdown",
   "id": "e8c940b2",
   "metadata": {},
   "source": [
    "#### mqtt.msg"
   ]
  },
  {
   "cell_type": "code",
   "execution_count": 277,
   "id": "99947dfe",
   "metadata": {},
   "outputs": [
    {
     "data": {
      "text/plain": [
       "115"
      ]
     },
     "execution_count": 277,
     "metadata": {},
     "output_type": "execute_result"
    }
   ],
   "source": [
    "len(df[df[\"Attack_label\"] == 0][df[\"mqtt.msg\"] != 0][\"mqtt.msg\"].unique())"
   ]
  },
  {
   "cell_type": "markdown",
   "id": "761236c6",
   "metadata": {},
   "source": [
    "All attack frames have mqtt msg empty so maybe convert it to categorical value"
   ]
  },
  {
   "cell_type": "markdown",
   "id": "7f4937c4",
   "metadata": {},
   "source": [
    "#### mqtt.protoname"
   ]
  },
  {
   "cell_type": "code",
   "execution_count": 279,
   "id": "138b67b6",
   "metadata": {},
   "outputs": [
    {
     "data": {
      "text/plain": [
       "array([], dtype=object)"
      ]
     },
     "execution_count": 279,
     "metadata": {},
     "output_type": "execute_result"
    }
   ],
   "source": [
    "df[df[\"Attack_label\"] == 1][df[\"mqtt.protoname\"] != 0][\"mqtt.protoname\"].unique()"
   ]
  },
  {
   "cell_type": "markdown",
   "id": "c3c43c3e",
   "metadata": {},
   "source": [
    "All attack frames have mqtt protoname empty so maybe convert it to categorical value"
   ]
  },
  {
   "cell_type": "markdown",
   "id": "ecf52de2",
   "metadata": {},
   "source": [
    "#### mqtt.topic"
   ]
  },
  {
   "cell_type": "code",
   "execution_count": 280,
   "id": "4bfcfbf7",
   "metadata": {},
   "outputs": [
    {
     "data": {
      "text/plain": [
       "array(['Temperature_and_Humidity'], dtype=object)"
      ]
     },
     "execution_count": 280,
     "metadata": {},
     "output_type": "execute_result"
    }
   ],
   "source": [
    "df[df[\"Attack_label\"] == 0][df[\"mqtt.topic\"] != 0][\"mqtt.topic\"].unique()"
   ]
  },
  {
   "cell_type": "markdown",
   "id": "113d46f8",
   "metadata": {},
   "source": [
    "All attack frames have mqtt topic empty so maybe convert it to categorical value"
   ]
  },
  {
   "cell_type": "code",
   "execution_count": null,
   "id": "0531d07f",
   "metadata": {},
   "outputs": [],
   "source": []
  },
  {
   "cell_type": "code",
   "execution_count": null,
   "id": "336ca485",
   "metadata": {},
   "outputs": [],
   "source": []
  },
  {
   "cell_type": "markdown",
   "id": "86fcf2fe",
   "metadata": {},
   "source": [
    "## Modifying string objects to integers and floats"
   ]
  },
  {
   "cell_type": "code",
   "execution_count": 262,
   "id": "990e266d",
   "metadata": {},
   "outputs": [],
   "source": [
    "from sklearn.pipeline import Pipeline\n",
    "from sklearn.preprocessing import StandardScaler, OneHotEncoder\n",
    "\n",
    "\n",
    "def convert_to_numeric_all_columns(df):\n",
    " \n",
    "    # Iterate over each column\n",
    "    for col in df.columns:\n",
    "        # Create a copy of the column to avoid modifying the original DataFrame\n",
    "        converted_column = df[col].copy()\n",
    "\n",
    "        # Try converting string values to floats, ignoring errors for non-numeric values\n",
    "        for i in range(len(converted_column)):\n",
    "            try:\n",
    "                converted_column.iloc[i] = float(converted_column.iloc[i])\n",
    "            except ValueError:\n",
    "                pass\n",
    "\n",
    "        # Assign the modified column back to the DataFrame\n",
    "        df[col] = converted_column\n",
    "\n",
    "    # Return the modified DataFrame\n",
    "    return df\n",
    "\n",
    "\n",
    "def convert_to_data_groups(df, column_name):\n",
    "    df['column_name'] = df[column_name].notna() & (df[column_name] != 0)\n",
    "    df['column_name'] = df['column_name'].astype(float)\n",
    "    return df\n",
    "\n",
    "\n",
    "def convert_to_one_hot(df, column_name):\n",
    "    categories = df[column_name].unique()\n",
    "    df_encoded = pd.get_dummies(df, columns=[column_name], prefix=column_name)\n",
    "    return df_encoded\n",
    "\n",
    "\n",
    "def convert_to_hex(df, column_name):\n",
    "    indexes_to_convert = []\n",
    "\n",
    "    for index, row in df.iterrows():\n",
    "\n",
    "        if type(row[column_name]) is str:\n",
    "            indexes_to_convert.append(index)\n",
    "    df[column_name][indexes_to_convert] = pd.to_numeric(df[column_name][indexes_to_convert].apply(lambda x: int(x, 16)), errors='coerce')\n",
    "\n",
    "\n",
    "def drop_parse_error_rows(df, column_name):\n",
    "    df[column_name] = pd.to_numeric(df[column_name], errors='coerce')\n",
    "    df = df.dropna(subset=[column_name])\n",
    "    return df\n",
    "\n",
    "\n",
    "\n",
    "\n",
    "steps = [(\"convert_to_numeric\", convert_to_numeric_all_columns)]"
   ]
  },
  {
   "cell_type": "markdown",
   "id": "6569da16",
   "metadata": {},
   "source": [
    "#### Conclusions - "
   ]
  },
  {
   "cell_type": "code",
   "execution_count": null,
   "id": "1f603883",
   "metadata": {},
   "outputs": [],
   "source": [
    "# binary_groups - columns converted to \"has data\" and \"doesn't have data\" (as only attack frames contain data)\n",
    "# one_hot_columns - columns to be converted to one hot array\n",
    "# hex_to_int - columns containig string hex value\n",
    "# to_drop - columns to drop from the df\n",
    "\n",
    "# Note that frame time and ip data will be dropped in all models except from LSTM model\n",
    "binary_groups = [\"http.file_data\", \"http.request.uri.query\", \"http.request.full_uri\", \"mqtt.conack.flags\",\n",
    "                 \"mqtt.protoname\", \"mqtt.topic\", \"arp.hw.size\", \"mqtt.conflags\", \"mqtt.proto_len\",]\n",
    "\n",
    "one_hot_columns = [\"http.request.method\", \"http.referer\", \"http.request.version\", \"arp.opcode\",\n",
    "                   \"dns.qry.qu\", \"dns.retransmission\", \"mqtt.hdrflags\", \"mqtt.msgtype\"]\n",
    "\n",
    "hex_to_int = [\"tcp.options\"]\n",
    "\n",
    "to_drop = [\"tcp.payload\", \"dns.qry.name.len\", \"mqtt.msg\", \"icmp.transmit_timestamp\", \"icmp.unused\",\n",
    "           \"http.tls_port\", \"dns.qry.type\", \"dns.retransmit_request_in\", \"mqtt.msg_decoded_as\",\n",
    "           \"mbtcp.len\", \"mbtcp.trans_id\", \"mbtcp.unit_id\"]\n",
    "\n",
    "to_normalize = [\"icmp.checksum\", \"icmp.seq_le\", \"http.content_length\", \"tcp.ack_raw\", \"tcp.ack\",\n",
    "                \"tcp.checksum\", \"tcp.dstport\", \"tcp.flags\", \"tcp.len\", \"tcp.options\",\n",
    "                \"tcp.seq\", \"tcp.srcport\", \"udp.port\", \"udp.stream\", \"udp.time_delta\",\n",
    "                \"dns.qry.name\", \"mqtt.len\", \"mqtt.topic_len\", \"mqtt.ver\"]\n",
    "\n",
    "to_drop_non_lstm_and_no_flow_data = [\"frame.time\", \"ip.src_host\", \"ip.dst_host\", \n",
    "                                     \"arp.src.proto_ipv4\", \"arp.dst.proto_ipv4\"]"
   ]
  },
  {
   "cell_type": "code",
   "execution_count": null,
   "id": "f290e644",
   "metadata": {},
   "outputs": [],
   "source": []
  },
  {
   "cell_type": "code",
   "execution_count": null,
   "id": "97fe50ae",
   "metadata": {},
   "outputs": [],
   "source": []
  },
  {
   "cell_type": "code",
   "execution_count": null,
   "id": "92a44515",
   "metadata": {},
   "outputs": [],
   "source": []
  }
 ],
 "metadata": {
  "kernelspec": {
   "display_name": "py310",
   "language": "python",
   "name": "py310"
  },
  "language_info": {
   "codemirror_mode": {
    "name": "ipython",
    "version": 3
   },
   "file_extension": ".py",
   "mimetype": "text/x-python",
   "name": "python",
   "nbconvert_exporter": "python",
   "pygments_lexer": "ipython3",
   "version": "3.9.13"
  }
 },
 "nbformat": 4,
 "nbformat_minor": 5
}
